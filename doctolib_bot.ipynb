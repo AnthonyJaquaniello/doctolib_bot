{
 "cells": [
  {
   "cell_type": "code",
   "execution_count": 117,
   "id": "559832ef-aba4-4e54-bef1-66a3fd16986c",
   "metadata": {},
   "outputs": [],
   "source": [
    "import requests\n",
    "import datetime\n",
    "import re"
   ]
  },
  {
   "cell_type": "code",
   "execution_count": 181,
   "id": "a7fad9e5-71a1-4fbf-9e98-d97ab6c3a8ab",
   "metadata": {},
   "outputs": [
    {
     "name": "stdout",
     "output_type": "stream",
     "text": [
      "dict_keys(['profile', 'specialities', 'visit_motive_categories', 'visit_motives', 'agendas', 'places', 'practitioners', 'vaccination_center', 'has_one_patient_base'])\n"
     ]
    }
   ],
   "source": [
    "center = 'gwendeline-gener-brunoy' #name of the doctor or center\n",
    "\n",
    "info = requests.get(url=f'https://www.doctolib.fr/booking/{center}.json',\n",
    "                    headers={'User-Agent': 'xxx'}).json()['data']\n",
    "\n",
    "print(info.keys())"
   ]
  },
  {
   "cell_type": "code",
   "execution_count": 182,
   "id": "3f136250-814f-48ad-9eec-ac84e8b452d3",
   "metadata": {},
   "outputs": [],
   "source": [
    "agenda_ids = info['agendas'][0]['id']\n",
    "visit_motive_ids = info['visit_motives'][0]['id']\n",
    "practise_id = info['places'][0]['id'].split('-')[1]"
   ]
  },
  {
   "cell_type": "code",
   "execution_count": 94,
   "id": "75cc5e6d-2594-49dd-ae6b-cc9567a7066f",
   "metadata": {},
   "outputs": [],
   "source": [
    "#in order to make a get request we absolutely need theses get parameters\n",
    "\n",
    "params = {\"start_date\": datetime.datetime.today().date().isoformat(),\n",
    "          \"visit_motive_ids\": \"49189\",\n",
    "          \"agenda_ids\": \"9310\",\n",
    "          \"insurance_sector\": \"public\",\n",
    "          \"practice_ids\" : \"3968\",\n",
    "          \"limit\": \"21\"}\n",
    "\n",
    "header = {'User-Agent': 'xxx'}\n",
    "\n",
    "get = requests.get(url='https://www.doctolib.fr/availabilities.json', \n",
    "                   params=params,\n",
    "                   headers=header).json()"
   ]
  },
  {
   "cell_type": "code",
   "execution_count": 95,
   "id": "35151f41-a230-48f5-bc47-8c5e92ead910",
   "metadata": {},
   "outputs": [
    {
     "data": {
      "text/plain": [
       "{'availabilities': [{'date': '2022-03-07', 'slots': []},\n",
       "  {'date': '2022-03-08', 'slots': []},\n",
       "  {'date': '2022-03-09', 'slots': []},\n",
       "  {'date': '2022-03-10', 'slots': []},\n",
       "  {'date': '2022-03-11', 'slots': []},\n",
       "  {'date': '2022-03-12', 'slots': []},\n",
       "  {'date': '2022-03-13', 'slots': []},\n",
       "  {'date': '2022-03-14', 'slots': []},\n",
       "  {'date': '2022-03-15', 'slots': []},\n",
       "  {'date': '2022-03-16', 'slots': []},\n",
       "  {'date': '2022-03-17', 'slots': []},\n",
       "  {'date': '2022-03-18', 'slots': []},\n",
       "  {'date': '2022-03-19', 'slots': []},\n",
       "  {'date': '2022-03-20', 'slots': []},\n",
       "  {'date': '2022-03-21', 'slots': []}],\n",
       " 'total': 0,\n",
       " 'reason': 'no_availabilities',\n",
       " 'message': 'Aucune disponibilité en ligne.'}"
      ]
     },
     "execution_count": 95,
     "metadata": {},
     "output_type": "execute_result"
    }
   ],
   "source": [
    "get"
   ]
  },
  {
   "cell_type": "code",
   "execution_count": 96,
   "id": "7482be1c-7f56-4fe2-8f68-7755f29b3e28",
   "metadata": {},
   "outputs": [],
   "source": [
    "if get['total'] > 0:\n",
    "    print('I have a free solt !')"
   ]
  },
  {
   "cell_type": "code",
   "execution_count": null,
   "id": "fe768fa9-4f9c-4362-ae83-7d3006c4dd9b",
   "metadata": {},
   "outputs": [],
   "source": []
  }
 ],
 "metadata": {
  "kernelspec": {
   "display_name": "Python 3 (ipykernel)",
   "language": "python",
   "name": "python3"
  },
  "language_info": {
   "codemirror_mode": {
    "name": "ipython",
    "version": 3
   },
   "file_extension": ".py",
   "mimetype": "text/x-python",
   "name": "python",
   "nbconvert_exporter": "python",
   "pygments_lexer": "ipython3",
   "version": "3.8.10"
  }
 },
 "nbformat": 4,
 "nbformat_minor": 5
}
