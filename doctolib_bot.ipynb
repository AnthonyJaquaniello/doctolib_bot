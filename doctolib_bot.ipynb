{
 "cells": [
  {
   "cell_type": "code",
   "execution_count": 2,
   "id": "559832ef-aba4-4e54-bef1-66a3fd16986c",
   "metadata": {},
   "outputs": [],
   "source": [
    "import requests\n",
    "import re"
   ]
  },
  {
   "cell_type": "code",
   "execution_count": 40,
   "id": "a7fad9e5-71a1-4fbf-9e98-d97ab6c3a8ab",
   "metadata": {},
   "outputs": [],
   "source": [
    "url = 'https://www.doctolib.fr/dermatologue/brunoy/gwendeline-gener-brunoy'\n",
    "\n",
    "response = requests.get(url=f'{url}.json').json()['data']"
   ]
  },
  {
   "cell_type": "code",
   "execution_count": 41,
   "id": "e21c0f98-79d6-4e3b-acec-5ecf1a2dfbf6",
   "metadata": {},
   "outputs": [
    {
     "name": "stdout",
     "output_type": "stream",
     "text": [
      "dict_keys(['profile', 'fees', 'details', 'legals', 'places'])\n"
     ]
    }
   ],
   "source": [
    "print(response.keys())"
   ]
  },
  {
   "cell_type": "code",
   "execution_count": 42,
   "id": "805dbf40-8fbf-4b5a-ad2d-3b0753697ead",
   "metadata": {},
   "outputs": [
    {
     "data": {
      "text/plain": [
       "{'is_directory': False,\n",
       " 'organization': False,\n",
       " 'id': 7051,\n",
       " 'name': 'Gener',\n",
       " 'name_with_title': 'Dr Gwendeline Gener',\n",
       " 'name_with_title_and_determiner': 'le Dr Gwendeline Gener',\n",
       " 'bio': \"Le docteur Gwendeline Gener vous accueille dans son cabinet situé à Brunoy.\\n\\nLe planning est actuellement complet jusqu'à avril 2022. Les rendez-vous pour mai 2022 s'ouvriront mi-novembre. Toutefois, il y a toutes les semaines de nombreux désistements qui s'ouvrent sur Doctolib, il faut donc consulter régulièrement la plateforme.\\n\\nLe docteur Gener pratique le laser épilatoire.\",\n",
       " 'website_url': '',\n",
       " 'country': 'fr',\n",
       " 'freemium': False,\n",
       " 'subtitle': 'Dermatologue et vénérologue',\n",
       " 'speciality': {'id': 6,\n",
       "  'kind': 'medical',\n",
       "  'non_healthcare_professional': False,\n",
       "  'name': 'Dermatologue et vénérologue'},\n",
       " 'pictures': [{'public_id': 'qulinpzia1suwjbtoi0u'}],\n",
       " 'cover_picture': {'public_id': 'gnrh5fkg2q06hjk1xkjs'},\n",
       " 'avatar_picture': {'public_id': 'qulinpzia1suwjbtoi0u'},\n",
       " 'telehealth': True,\n",
       " 'skills': [{'kind': 'subspeciality', 'name': 'Épilation laser'}],\n",
       " 'languages': [{'iso_code': 'gb'}],\n",
       " 'formations': [],\n",
       " 'decorations': [],\n",
       " 'experience_periods': [],\n",
       " 'publications': [],\n",
       " 'associations': [],\n",
       " 'vaccination_center_with_pfizer_moderna': False}"
      ]
     },
     "execution_count": 42,
     "metadata": {},
     "output_type": "execute_result"
    }
   ],
   "source": [
    "response['profile']"
   ]
  },
  {
   "cell_type": "code",
   "execution_count": 75,
   "id": "75cc5e6d-2594-49dd-ae6b-cc9567a7066f",
   "metadata": {},
   "outputs": [],
   "source": [
    "params = {\"start_date\": \"2022-03-07\",\n",
    "          \"visit_motive_ids\": \"49189\",\n",
    "          \"agenda_ids\": \"9310\",\n",
    "          \"insurance_sector\": \"public\",\n",
    "          \"practice_ids\" : \"3968\",\n",
    "          \"limit\": \"4\"}\n",
    "\n",
    "header = {'User-Agent': 'xxx'}\n",
    "\n",
    "get = requests.get(url='https://www.doctolib.fr/availabilities.json', \n",
    "                   params=params,\n",
    "                   headers=header).json()"
   ]
  },
  {
   "cell_type": "code",
   "execution_count": 76,
   "id": "35151f41-a230-48f5-bc47-8c5e92ead910",
   "metadata": {},
   "outputs": [
    {
     "data": {
      "text/plain": [
       "{'availabilities': [{'date': '2022-03-07', 'slots': []},\n",
       "  {'date': '2022-03-08', 'slots': []},\n",
       "  {'date': '2022-03-09', 'slots': []},\n",
       "  {'date': '2022-03-10', 'slots': []}],\n",
       " 'total': 0,\n",
       " 'reason': 'no_availabilities',\n",
       " 'message': 'Aucune disponibilité en ligne.'}"
      ]
     },
     "execution_count": 76,
     "metadata": {},
     "output_type": "execute_result"
    }
   ],
   "source": [
    "get"
   ]
  },
  {
   "cell_type": "code",
   "execution_count": null,
   "id": "f74ebb4c-d851-4155-9d7b-d335fd97991c",
   "metadata": {},
   "outputs": [],
   "source": []
  },
  {
   "cell_type": "code",
   "execution_count": null,
   "id": "7482be1c-7f56-4fe2-8f68-7755f29b3e28",
   "metadata": {},
   "outputs": [],
   "source": []
  }
 ],
 "metadata": {
  "kernelspec": {
   "display_name": "Python 3 (ipykernel)",
   "language": "python",
   "name": "python3"
  },
  "language_info": {
   "codemirror_mode": {
    "name": "ipython",
    "version": 3
   },
   "file_extension": ".py",
   "mimetype": "text/x-python",
   "name": "python",
   "nbconvert_exporter": "python",
   "pygments_lexer": "ipython3",
   "version": "3.8.10"
  }
 },
 "nbformat": 4,
 "nbformat_minor": 5
}
