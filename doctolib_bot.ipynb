{
 "cells": [
  {
   "cell_type": "code",
   "execution_count": 224,
   "id": "559832ef-aba4-4e54-bef1-66a3fd16986c",
   "metadata": {},
   "outputs": [],
   "source": [
    "import requests\n",
    "import datetime\n",
    "import re\n",
    "\n",
    "def get_info(centers, header):\n",
    "    infos = [requests.get(url=f'https://www.doctolib.fr/booking/{center}.json', \n",
    "                         headers=header).json()['data'] for center in centers]\n",
    "    return infos\n",
    "\n",
    "def extract_param(infos):\n",
    "    agendas_id = [info['agendas'][0]['id'] for info in infos]\n",
    "    visit_motive_ids = [info['visit_motives'][0]['id'] for info in infos]\n",
    "    practise_id = [info['places'][0]['id'].split('-')[1] for info in infos]\n",
    "    \n",
    "    return agendas_id, visit_motive_ids, practise_id\n",
    "\n",
    "def check_slot(params, centers, header, span):\n",
    "        i = 0\n",
    "        for aid, vid, pid in zip(params[0], params[1], params[2]):\n",
    "            meta = {\"start_date\": datetime.datetime.today().date().isoformat(),\n",
    "                    \"visit_motive_ids\": vid,\n",
    "                    \"agenda_ids\": aid,\n",
    "                    \"insurance_sector\": \"public\",\n",
    "                    \"practice_ids\" : pid,\n",
    "                    \"limit\": str(span)}\n",
    "            \n",
    "            get = requests.get(url='https://www.doctolib.fr/availabilities.json', \n",
    "                   params=meta,\n",
    "                   headers=header).json()\n",
    "            if get['total'] > 0:\n",
    "                print(f'I have a free solt for the center \"{centers[i]}\" !')\n",
    "            i += 1"
   ]
  },
  {
   "cell_type": "code",
   "execution_count": 225,
   "id": "07197273-51b2-41fc-8dca-e6ff8c7a015f",
   "metadata": {},
   "outputs": [
    {
     "name": "stdout",
     "output_type": "stream",
     "text": [
      "I have a free solt for the center \"bernard-peyronnet\" !\n"
     ]
    }
   ],
   "source": [
    "header = {'User-Agent': 'xxx'}\n",
    "centers = ['gwendeline-gener-brunoy', 'eva-bourdon-lanoy', 'bernard-peyronnet']\n",
    "\n",
    "infos = get_info(centers, header)\n",
    "params = extract_param(infos)\n",
    "check_slot(params, centers, header, 21)"
   ]
  }
 ],
 "metadata": {
  "kernelspec": {
   "display_name": "Python 3 (ipykernel)",
   "language": "python",
   "name": "python3"
  },
  "language_info": {
   "codemirror_mode": {
    "name": "ipython",
    "version": 3
   },
   "file_extension": ".py",
   "mimetype": "text/x-python",
   "name": "python",
   "nbconvert_exporter": "python",
   "pygments_lexer": "ipython3",
   "version": "3.8.10"
  }
 },
 "nbformat": 4,
 "nbformat_minor": 5
}
